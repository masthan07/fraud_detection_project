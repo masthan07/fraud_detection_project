{
  "cells": [
    {
      "cell_type": "markdown",
      "metadata": {
        "id": "view-in-github",
        "colab_type": "text"
      },
      "source": [
        "<a href=\"https://colab.research.google.com/github/masthan07/fraud_detection_project/blob/main/fraud_detection_using_xgboost.ipynb\" target=\"_parent\"><img src=\"https://colab.research.google.com/assets/colab-badge.svg\" alt=\"Open In Colab\"/></a>"
      ]
    },
    {
      "cell_type": "code",
      "execution_count": null,
      "metadata": {
        "colab": {
          "base_uri": "https://localhost:8080/"
        },
        "id": "774UyoVjRvup",
        "outputId": "02d1a604-6a8d-4fd9-d749-f62815855c4a"
      },
      "outputs": [
        {
          "output_type": "stream",
          "name": "stdout",
          "text": [
            "Requirement already satisfied: kaggle in /usr/local/lib/python3.12/dist-packages (1.7.4.5)\n",
            "Requirement already satisfied: bleach in /usr/local/lib/python3.12/dist-packages (from kaggle) (6.2.0)\n",
            "Requirement already satisfied: certifi>=14.05.14 in /usr/local/lib/python3.12/dist-packages (from kaggle) (2025.8.3)\n",
            "Requirement already satisfied: charset-normalizer in /usr/local/lib/python3.12/dist-packages (from kaggle) (3.4.3)\n",
            "Requirement already satisfied: idna in /usr/local/lib/python3.12/dist-packages (from kaggle) (3.10)\n",
            "Requirement already satisfied: protobuf in /usr/local/lib/python3.12/dist-packages (from kaggle) (5.29.5)\n",
            "Requirement already satisfied: python-dateutil>=2.5.3 in /usr/local/lib/python3.12/dist-packages (from kaggle) (2.9.0.post0)\n",
            "Requirement already satisfied: python-slugify in /usr/local/lib/python3.12/dist-packages (from kaggle) (8.0.4)\n",
            "Requirement already satisfied: requests in /usr/local/lib/python3.12/dist-packages (from kaggle) (2.32.4)\n",
            "Requirement already satisfied: setuptools>=21.0.0 in /usr/local/lib/python3.12/dist-packages (from kaggle) (75.2.0)\n",
            "Requirement already satisfied: six>=1.10 in /usr/local/lib/python3.12/dist-packages (from kaggle) (1.17.0)\n",
            "Requirement already satisfied: text-unidecode in /usr/local/lib/python3.12/dist-packages (from kaggle) (1.3)\n",
            "Requirement already satisfied: tqdm in /usr/local/lib/python3.12/dist-packages (from kaggle) (4.67.1)\n",
            "Requirement already satisfied: urllib3>=1.15.1 in /usr/local/lib/python3.12/dist-packages (from kaggle) (2.5.0)\n",
            "Requirement already satisfied: webencodings in /usr/local/lib/python3.12/dist-packages (from kaggle) (0.5.1)\n"
          ]
        }
      ],
      "source": [
        "pip install kaggle\n"
      ]
    },
    {
      "cell_type": "markdown",
      "metadata": {
        "id": "LTDi8MlgYyEQ"
      },
      "source": [
        "Step 1: Load and Basic Preprocessing"
      ]
    },
    {
      "cell_type": "code",
      "execution_count": null,
      "metadata": {
        "id": "GuyPrtqvWNir",
        "colab": {
          "base_uri": "https://localhost:8080/"
        },
        "outputId": "703cb609-8b07-4956-dce8-13abe4e40ade"
      },
      "outputs": [
        {
          "output_type": "stream",
          "name": "stdout",
          "text": [
            "Shape after dropping sparse columns: (2845, 223)\n"
          ]
        }
      ],
      "source": [
        "import pandas as pd\n",
        "import numpy as np\n",
        "import xgboost as xgb\n",
        "from sklearn.model_selection import train_test_split\n",
        "from sklearn.preprocessing import LabelEncoder\n",
        "from sklearn.metrics import classification_report, roc_auc_score, f1_score, confusion_matrix\n",
        "import matplotlib.pyplot as plt\n",
        "\n",
        "# Load data\n",
        "train_trans = pd.read_csv('train_transaction.csv')\n",
        "train_identity = pd.read_csv('train_identity.csv')\n",
        "\n",
        "# Merge\n",
        "df = train_trans.merge(train_identity, on='TransactionID', how='left')\n",
        "\n",
        "# Remove high missing value columns\n",
        "threshold = 0.7\n",
        "missing_pct = df.isnull().sum() / len(df)\n",
        "cols_to_drop = missing_pct[missing_pct > threshold].index\n",
        "df = df.drop(columns=cols_to_drop)\n",
        "\n",
        "print(f\"Shape after dropping sparse columns: {df.shape}\")"
      ]
    },
    {
      "cell_type": "markdown",
      "metadata": {
        "id": "CHTpI4IEZK-K"
      },
      "source": [
        "Step 2: Feature Preparation\n"
      ]
    },
    {
      "cell_type": "code",
      "execution_count": null,
      "metadata": {
        "colab": {
          "base_uri": "https://localhost:8080/"
        },
        "id": "D3VTh0SuZGAZ",
        "outputId": "a79bf8e1-0794-4597-d25f-caa1968c69bb"
      },
      "outputs": [
        {
          "output_type": "stream",
          "name": "stdout",
          "text": [
            "Final features: 220\n",
            "Fraud cases: 57 (2.00%)\n"
          ]
        }
      ],
      "source": [
        "# Separate features and target\n",
        "X = df.drop(['TransactionID', 'isFraud', 'TransactionDT'], axis=1)\n",
        "y = df['isFraud']\n",
        "\n",
        "# Label encode categorical columns\n",
        "categorical_cols = X.select_dtypes(include=['object']).columns\n",
        "\n",
        "for col in categorical_cols:\n",
        "    le = LabelEncoder()\n",
        "    X[col] = le.fit_transform(X[col].astype(str))\n",
        "\n",
        "# Fill NaN with -999 (XGBoost can handle it, but explicit is clearer)\n",
        "X = X.fillna(-999)\n",
        "\n",
        "print(f\"Final features: {X.shape[1]}\")\n",
        "print(f\"Fraud cases: {y.sum()} ({y.mean()*100:.2f}%)\")"
      ]
    },
    {
      "cell_type": "markdown",
      "metadata": {
        "id": "nToFJXv9ZcwU"
      },
      "source": [
        "Step 3: Train-Test Split (NO BALANCING)"
      ]
    },
    {
      "cell_type": "code",
      "execution_count": null,
      "metadata": {
        "colab": {
          "base_uri": "https://localhost:8080/"
        },
        "id": "h78y9HloZfdZ",
        "outputId": "94205d26-6182-4e4e-abe1-1b344ad271a0"
      },
      "outputs": [
        {
          "output_type": "stream",
          "name": "stdout",
          "text": [
            "\n",
            "Training set: 2276\n",
            "Test set: 569\n",
            "Training fraud ratio: 2.02%\n"
          ]
        }
      ],
      "source": [
        "# Simple stratified split - keep original imbalanced distribution\n",
        "X_train, X_test, y_train, y_test = train_test_split(\n",
        "    X, y,\n",
        "    test_size=0.2,\n",
        "    random_state=42,\n",
        "    stratify=y\n",
        ")\n",
        "\n",
        "print(f\"\\nTraining set: {len(X_train)}\")\n",
        "print(f\"Test set: {len(X_test)}\")\n",
        "print(f\"Training fraud ratio: {y_train.mean()*100:.2f}%\")# Simple stratified split - keep original imbalanced distribution\n"
      ]
    },
    {
      "cell_type": "markdown",
      "metadata": {
        "id": "lAB0VB36ZxBh"
      },
      "source": [
        "Step 4: Calculate scale_pos_weight"
      ]
    },
    {
      "cell_type": "code",
      "execution_count": null,
      "metadata": {
        "colab": {
          "base_uri": "https://localhost:8080/"
        },
        "id": "gaOzVPiuZwlb",
        "outputId": "54a76c55-d502-4b6d-cbdf-aa8ad5b24a1c"
      },
      "outputs": [
        {
          "output_type": "stream",
          "name": "stdout",
          "text": [
            "\n",
            "Class distribution:\n",
            "Negative (legitimate): 2230\n",
            "Positive (fraud): 46\n",
            "scale_pos_weight: 48.48\n"
          ]
        }
      ],
      "source": [
        "# This is the KEY parameter for handling imbalance\n",
        "# Formula: (number of negative samples) / (number of positive samples)\n",
        "\n",
        "n_negative = (y_train == 0).sum()\n",
        "n_positive = (y_train == 1).sum()\n",
        "scale_pos_weight = n_negative / n_positive\n",
        "\n",
        "print(f\"\\nClass distribution:\")\n",
        "print(f\"Negative (legitimate): {n_negative}\")\n",
        "print(f\"Positive (fraud): {n_positive}\")\n",
        "print(f\"scale_pos_weight: {scale_pos_weight:.2f}\")"
      ]
    },
    {
      "cell_type": "markdown",
      "metadata": {
        "id": "IHWCxTDhaCIf"
      },
      "source": [
        "Step 5: Train XGBoost with scale_pos_weight"
      ]
    },
    {
      "cell_type": "code",
      "execution_count": null,
      "metadata": {
        "colab": {
          "base_uri": "https://localhost:8080/"
        },
        "id": "vh_3it8UZ8HT",
        "outputId": "6260cda6-4527-484f-a957-54f2825688c6"
      },
      "outputs": [
        {
          "output_type": "stream",
          "name": "stdout",
          "text": [
            "\n",
            "Training model...\n"
          ]
        },
        {
          "output_type": "stream",
          "name": "stderr",
          "text": [
            "/usr/local/lib/python3.12/dist-packages/xgboost/training.py:183: UserWarning: [05:51:05] WARNING: /workspace/src/learner.cc:738: \n",
            "Parameters: { \"use_label_encoder\" } are not used.\n",
            "\n",
            "  bst.update(dtrain, iteration=i, fobj=obj)\n"
          ]
        },
        {
          "output_type": "stream",
          "name": "stdout",
          "text": [
            "\n",
            "=== XGBoost with scale_pos_weight Results ===\n",
            "              precision    recall  f1-score   support\n",
            "\n",
            "  Legitimate       0.99      1.00      0.99       558\n",
            "       Fraud       0.71      0.45      0.56        11\n",
            "\n",
            "    accuracy                           0.99       569\n",
            "   macro avg       0.85      0.73      0.77       569\n",
            "weighted avg       0.98      0.99      0.98       569\n",
            "\n",
            "\n",
            "AUC-ROC: 0.8614\n",
            "F1-Score: 0.5556\n"
          ]
        }
      ],
      "source": [
        "# Basic model with scale_pos_weight handling imbalance\n",
        "xgb_model = xgb.XGBClassifier(\n",
        "    n_estimators=200,\n",
        "    max_depth=6,\n",
        "    learning_rate=0.1,\n",
        "    scale_pos_weight=scale_pos_weight,  # THIS handles imbalance\n",
        "    random_state=42,\n",
        "    tree_method='hist',\n",
        "    eval_metric='auc',\n",
        "    use_label_encoder=False\n",
        ")\n",
        "\n",
        "# Train on IMBALANCED data (no SMOTE needed!)\n",
        "print(\"\\nTraining model...\")\n",
        "xgb_model.fit(X_train, y_train)\n",
        "\n",
        "# Predictions\n",
        "y_pred = xgb_model.predict(X_test)\n",
        "y_pred_proba = xgb_model.predict_proba(X_test)[:, 1]\n",
        "\n",
        "# Evaluation\n",
        "print(\"\\n=== XGBoost with scale_pos_weight Results ===\")\n",
        "print(classification_report(y_test, y_pred, target_names=['Legitimate', 'Fraud']))\n",
        "print(f\"\\nAUC-ROC: {roc_auc_score(y_test, y_pred_proba):.4f}\")\n",
        "print(f\"F1-Score: {f1_score(y_test, y_pred):.4f}\")"
      ]
    },
    {
      "cell_type": "markdown",
      "metadata": {
        "id": "5dvXCrqVaWwF"
      },
      "source": [
        "Step 6: Early Stopping for Better Performance"
      ]
    },
    {
      "cell_type": "code",
      "execution_count": null,
      "metadata": {
        "colab": {
          "base_uri": "https://localhost:8080/"
        },
        "id": "iNCclvtjaXW3",
        "outputId": "95d45b77-b32f-4308-8099-219be8e61d07"
      },
      "outputs": [
        {
          "output_type": "stream",
          "name": "stdout",
          "text": [
            "\n",
            "Training with early stopping...\n"
          ]
        },
        {
          "output_type": "stream",
          "name": "stderr",
          "text": [
            "/usr/local/lib/python3.12/dist-packages/xgboost/training.py:183: UserWarning: [05:51:13] WARNING: /workspace/src/learner.cc:738: \n",
            "Parameters: { \"use_label_encoder\" } are not used.\n",
            "\n",
            "  bst.update(dtrain, iteration=i, fobj=obj)\n"
          ]
        },
        {
          "output_type": "stream",
          "name": "stdout",
          "text": [
            "\n",
            "=== Results with Early Stopping ===\n",
            "AUC-ROC: 0.8043\n",
            "F1-Score: 0.3158\n"
          ]
        }
      ],
      "source": [
        "# Split training data for validation\n",
        "X_train_split, X_val, y_train_split, y_val = train_test_split(\n",
        "    X_train, y_train,\n",
        "    test_size=0.2,\n",
        "    random_state=42,\n",
        "    stratify=y_train\n",
        ")\n",
        "\n",
        "# Model with early stopping\n",
        "xgb_early = xgb.XGBClassifier(\n",
        "    n_estimators=1000,  # Set high, early stopping determines actual\n",
        "    max_depth=6,\n",
        "    learning_rate=0.05,\n",
        "    scale_pos_weight=scale_pos_weight,\n",
        "    random_state=42,\n",
        "    tree_method='hist',\n",
        "    eval_metric='auc',\n",
        "    use_label_encoder=False\n",
        ")\n",
        "\n",
        "print(\"\\nTraining with early stopping...\")\n",
        "xgb_early.fit(\n",
        "    X_train_split, y_train_split,\n",
        "    # eval_set=[(X_val, y_val)], # Removed as early stopping is not supported\n",
        "    # early_stopping_rounds=50, # Removed as early stopping is not supported\n",
        "    # verbose=20 # Removed as early stopping is not supported\n",
        ")\n",
        "\n",
        "# Evaluate\n",
        "y_pred_early = xgb_early.predict(X_test)\n",
        "y_pred_proba_early = xgb_early.predict_proba(X_test)[:, 1]\n",
        "\n",
        "print(\"\\n=== Results with Early Stopping ===\")\n",
        "# print(f\"Best iteration: {xgb_early.best_iteration}\") # Removed as best_iteration is not available\n",
        "print(f\"AUC-ROC: {roc_auc_score(y_test, y_pred_proba_early):.4f}\")\n",
        "print(f\"F1-Score: {f1_score(y_test, y_pred_early):.4f}\")"
      ]
    },
    {
      "cell_type": "markdown",
      "metadata": {
        "id": "AmWSPzUUbkV2"
      },
      "source": [
        "Step 7: Hyperparameter Tuning"
      ]
    },
    {
      "cell_type": "code",
      "execution_count": null,
      "metadata": {
        "colab": {
          "base_uri": "https://localhost:8080/"
        },
        "id": "5jyHbKIWbj_d",
        "outputId": "3ec06f92-d435-4a85-c481-1e66f833ec07"
      },
      "outputs": [
        {
          "output_type": "stream",
          "name": "stdout",
          "text": [
            "\n",
            "Tuning hyperparameters...\n",
            "Fitting 3 folds for each of 15 candidates, totalling 45 fits\n"
          ]
        },
        {
          "output_type": "stream",
          "name": "stderr",
          "text": [
            "/usr/local/lib/python3.12/dist-packages/xgboost/training.py:183: UserWarning: [05:52:04] WARNING: /workspace/src/learner.cc:738: \n",
            "Parameters: { \"use_label_encoder\" } are not used.\n",
            "\n",
            "  bst.update(dtrain, iteration=i, fobj=obj)\n"
          ]
        },
        {
          "output_type": "stream",
          "name": "stdout",
          "text": [
            "\n",
            "Best parameters: {'subsample': 0.9, 'n_estimators': 200, 'min_child_weight': 1, 'max_depth': 6, 'learning_rate': 0.1, 'gamma': 0.2, 'colsample_bytree': 0.9}\n",
            "Best CV F1-score: 0.4234\n"
          ]
        }
      ],
      "source": [
        "from sklearn.model_selection import RandomizedSearchCV\n",
        "\n",
        "param_grid = {\n",
        "    'max_depth': [4, 6, 8],\n",
        "    'learning_rate': [0.01, 0.05, 0.1],\n",
        "    'n_estimators': [200, 300, 500],\n",
        "    'min_child_weight': [1, 3, 5],\n",
        "    'subsample': [0.7, 0.8, 0.9],\n",
        "    'colsample_bytree': [0.7, 0.8, 0.9],\n",
        "    'gamma': [0, 0.1, 0.2]\n",
        "}\n",
        "\n",
        "xgb_tuning = xgb.XGBClassifier(\n",
        "    scale_pos_weight=scale_pos_weight,  # Keep this fixed\n",
        "    random_state=42,\n",
        "    tree_method='hist',\n",
        "    eval_metric='auc',\n",
        "    use_label_encoder=False\n",
        ")\n",
        "\n",
        "random_search = RandomizedSearchCV(\n",
        "    xgb_tuning,\n",
        "    param_distributions=param_grid,\n",
        "    n_iter=15,\n",
        "    scoring='f1',\n",
        "    cv=3,\n",
        "    verbose=2,\n",
        "    random_state=42,\n",
        "    n_jobs=-1\n",
        ")\n",
        "\n",
        "print(\"\\nTuning hyperparameters...\")\n",
        "random_search.fit(X_train, y_train)\n",
        "\n",
        "print(f\"\\nBest parameters: {random_search.best_params_}\")\n",
        "print(f\"Best CV F1-score: {random_search.best_score_:.4f}\")\n",
        "\n",
        "# Best model\n",
        "best_model = random_search.best_estimator_"
      ]
    },
    {
      "cell_type": "markdown",
      "metadata": {
        "id": "VzsntFOWb_w2"
      },
      "source": [
        "Step 8: Final Evaluation"
      ]
    },
    {
      "cell_type": "code",
      "execution_count": null,
      "metadata": {
        "colab": {
          "base_uri": "https://localhost:8080/",
          "height": 1000
        },
        "id": "z84bnU4ZcDxm",
        "outputId": "e38e6c4b-46dc-4d1e-fc33-0f3a727e8fae"
      },
      "outputs": [
        {
          "output_type": "stream",
          "name": "stdout",
          "text": [
            "\n",
            "=== Final Optimized Results ===\n",
            "              precision    recall  f1-score   support\n",
            "\n",
            "  Legitimate       0.99      0.99      0.99       558\n",
            "       Fraud       0.50      0.27      0.35        11\n",
            "\n",
            "    accuracy                           0.98       569\n",
            "   macro avg       0.74      0.63      0.67       569\n",
            "weighted avg       0.98      0.98      0.98       569\n",
            "\n",
            "\n",
            "AUC-ROC: 0.8615\n",
            "F1-Score: 0.3529\n"
          ]
        },
        {
          "output_type": "display_data",
          "data": {
            "text/plain": [
              "<Figure size 640x480 with 2 Axes>"
            ],
            "image/png": "[encoded data removed]"
          },
          "metadata": {}
        },
        {
          "output_type": "display_data",
          "data": {
            "text/plain": [
              "<Figure size 640x480 with 1 Axes>"
            ],
            "image/png": "[encoded data removed]"
          },
          "metadata": {}
        }
      ],
      "source": [
        "# Use best model for final predictions\n",
        "y_pred_final = best_model.predict(X_test)\n",
        "y_pred_proba_final = best_model.predict_proba(X_test)[:, 1]\n",
        "\n",
        "print(\"\\n=== Final Optimized Results ===\")\n",
        "print(classification_report(y_test, y_pred_final, target_names=['Legitimate', 'Fraud']))\n",
        "print(f\"\\nAUC-ROC: {roc_auc_score(y_test, y_pred_proba_final):.4f}\")\n",
        "print(f\"F1-Score: {f1_score(y_test, y_pred_final):.4f}\")\n",
        "\n",
        "# Confusion Matrix\n",
        "from sklearn.metrics import ConfusionMatrixDisplay\n",
        "cm = confusion_matrix(y_test, y_pred_final)\n",
        "disp = ConfusionMatrixDisplay(cm, display_labels=['Legitimate', 'Fraud'])\n",
        "disp.plot(cmap='Blues')\n",
        "plt.title('Confusion Matrix - XGBoost with scale_pos_weight')\n",
        "plt.show()\n",
        "\n",
        "# ROC Curve\n",
        "from sklearn.metrics import RocCurveDisplay\n",
        "RocCurveDisplay.from_estimator(best_model, X_test, y_test)\n",
        "plt.title('ROC Curve - XGBoost')\n",
        "plt.show()"
      ]
    },
    {
      "cell_type": "markdown",
      "metadata": {
        "id": "8OQH2YmacV9r"
      },
      "source": [
        "Step 9: Feature Importance\n"
      ]
    },
    {
      "cell_type": "code",
      "execution_count": null,
      "metadata": {
        "colab": {
          "base_uri": "https://localhost:8080/",
          "height": 1000
        },
        "id": "2bphG1yBcVHB",
        "outputId": "bef46eb6-2fcb-4321-98f8-a39db1b03a17"
      },
      "outputs": [
        {
          "output_type": "display_data",
          "data": {
            "text/plain": [
              "<Figure size 1000x800 with 1 Axes>"
            ],
            "image/png": "[encoded data removed]"
          },
          "metadata": {}
        },
        {
          "output_type": "stream",
          "name": "stdout",
          "text": [
            "\n",
            "Top 10 Features:\n",
            "    feature  importance\n",
            "68      V29    0.146780\n",
            "69      V30    0.106575\n",
            "108     V69    0.046610\n",
            "109     V70    0.039069\n",
            "101     V62    0.032814\n",
            "142    V103    0.028761\n",
            "210    V312    0.024709\n",
            "140    V101    0.024461\n",
            "15       C4    0.024057\n",
            "196    V298    0.019454\n"
          ]
        }
      ],
      "source": [
        "# Top features\n",
        "feature_importance = pd.DataFrame({\n",
        "    'feature': X.columns,\n",
        "    'importance': best_model.feature_importances_\n",
        "}).sort_values('importance', ascending=False)\n",
        "\n",
        "# Plot top 20\n",
        "plt.figure(figsize=(10, 8))\n",
        "top_20 = feature_importance.head(20)\n",
        "plt.barh(top_20['feature'], top_20['importance'])\n",
        "plt.xlabel('Importance Score')\n",
        "plt.title('Top 20 Important Features')\n",
        "plt.gca().invert_yaxis()\n",
        "plt.tight_layout()\n",
        "plt.show()\n",
        "\n",
        "print(\"\\nTop 10 Features:\")\n",
        "print(feature_importance.head(10))"
      ]
    },
    {
      "cell_type": "markdown",
      "metadata": {
        "id": "-1q90pD9csN5"
      },
      "source": [
        "Step 10: Save Model"
      ]
    },
    {
      "cell_type": "code",
      "execution_count": null,
      "metadata": {
        "colab": {
          "base_uri": "https://localhost:8080/"
        },
        "id": "2TGwSimocvQl",
        "outputId": "6993f2c0-c8db-4c9e-c6c8-2a209fffe017"
      },
      "outputs": [
        {
          "output_type": "stream",
          "name": "stdout",
          "text": [
            "Model saved as 'xgb_fraud_detector.pkl'\n"
          ]
        }
      ],
      "source": [
        "import pickle\n",
        "\n",
        "# Save trained model\n",
        "with open('xgb_fraud_detector.pkl', 'wb') as f:\n",
        "    pickle.dump(best_model, f)\n",
        "\n",
        "print(\"Model saved as 'xgb_fraud_detector.pkl'\")"
      ]
    },
    {
      "cell_type": "code",
      "execution_count": null,
      "metadata": {
        "colab": {
          "base_uri": "https://localhost:8080/",
          "height": 17
        },
        "id": "decbfca9",
        "outputId": "4ffda37c-78b6-4eb3-f399-d9991666a4a8"
      },
      "outputs": [
        {
          "data": {
            "application/javascript": [
              "\n",
              "    async function download(id, filename, size) {\n",
              "      if (!google.colab.kernel.accessAllowed) {\n",
              "        return;\n",
              "      }\n",
              "      const div = document.createElement('div');\n",
              "      const label = document.createElement('label');\n",
              "      label.textContent = `Downloading \"${filename}\": `;\n",
              "      div.appendChild(label);\n",
              "      const progress = document.createElement('progress');\n",
              "      progress.max = size;\n",
              "      div.appendChild(progress);\n",
              "      document.body.appendChild(div);\n",
              "\n",
              "      const buffers = [];\n",
              "      let downloaded = 0;\n",
              "\n",
              "      const channel = await google.colab.kernel.comms.open(id);\n",
              "      // Send a message to notify the kernel that we're ready.\n",
              "      channel.send({})\n",
              "\n",
              "      for await (const message of channel.messages) {\n",
              "        // Send a message to notify the kernel that we're ready.\n",
              "        channel.send({})\n",
              "        if (message.buffers) {\n",
              "          for (const buffer of message.buffers) {\n",
              "            buffers.push(buffer);\n",
              "            downloaded += buffer.byteLength;\n",
              "            progress.value = downloaded;\n",
              "          }\n",
              "        }\n",
              "      }\n",
              "      const blob = new Blob(buffers, {type: 'application/binary'});\n",
              "      const a = document.createElement('a');\n",
              "      a.href = window.URL.createObjectURL(blob);\n",
              "      a.download = filename;\n",
              "      div.appendChild(a);\n",
              "      a.click();\n",
              "      div.remove();\n",
              "    }\n",
              "  "
            ],
            "text/plain": [
              "<IPython.core.display.Javascript object>"
            ]
          },
          "metadata": {},
          "output_type": "display_data"
        },
        {
          "data": {
            "application/javascript": [
              "download(\"download_b6525001-1b0a-48ba-a65c-05a746518bf4\", \"xgb_fraud_detector.pkl\", 428327)"
            ],
            "text/plain": [
              "<IPython.core.display.Javascript object>"
            ]
          },
          "metadata": {},
          "output_type": "display_data"
        }
      ],
      "source": [
        "from google.colab import files\n",
        "\n",
        "files.download('xgb_fraud_detector.pkl')"
      ]
    },
    {
      "cell_type": "code",
      "source": [],
      "metadata": {
        "id": "SGnAoQCaJlsa"
      },
      "execution_count": null,
      "outputs": []
    },
    {
      "cell_type": "code",
      "source": [],
      "metadata": {
        "id": "9qhBMYkw7xn3"
      },
      "execution_count": null,
      "outputs": []
    },
    {
      "cell_type": "code",
      "metadata": {
        "id": "b8bf3b9c"
      },
      "source": [],
      "execution_count": null,
      "outputs": []
    }
  ],
  "metadata": {
    "colab": {
      "provenance": [],
      "toc_visible": true,
      "authorship_tag": "ABX9TyM9/LsxSkVKV9SrDSjWkhCD",
      "include_colab_link": true
    },
    "kernelspec": {
      "display_name": "Python 3",
      "name": "python3"
    },
    "language_info": {
      "name": "python"
    }
  },
  "nbformat": 4,
  "nbformat_minor": 0
}